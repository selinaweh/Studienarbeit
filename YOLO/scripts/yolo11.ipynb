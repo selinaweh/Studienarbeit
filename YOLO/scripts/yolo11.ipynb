{
 "cells": [
  {
   "cell_type": "code",
   "execution_count": 1,
   "id": "initial_id",
   "metadata": {
    "collapsed": true,
    "ExecuteTime": {
     "end_time": "2024-12-18T14:50:01.295311Z",
     "start_time": "2024-12-18T14:49:49.924167Z"
    }
   },
   "outputs": [
    {
     "name": "stdout",
     "output_type": "stream",
     "text": [
      "Creating new Ultralytics Settings v0.0.6 file  \n",
      "View Ultralytics Settings with 'yolo settings' or at 'C:\\Users\\Weh\\AppData\\Roaming\\Ultralytics\\settings.json'\n",
      "Update Settings with 'yolo settings key=value', i.e. 'yolo settings runs_dir=path/to/dir'. For help see https://docs.ultralytics.com/quickstart/#ultralytics-settings.\n"
     ]
    }
   ],
   "source": [
    "from ultralytics import YOLO\n",
    "import os\n",
    "import torch\n",
    "from tensorboard import program\n",
    "\n",
    "from config import YOLO_DATA_DIR\n",
    "\n",
    "dataset = os.path.join(YOLO_DATA_DIR, \"Fine24/Fine24.yaml\")"
   ]
  },
  {
   "cell_type": "code",
   "outputs": [],
   "source": [
    "# Get cpu, gpu or mps device for training.\n",
    "device = (\n",
    "    \"cuda\"\n",
    "    if torch.cuda.is_available()\n",
    "    else \"mps\"\n",
    "    if torch.backends.mps.is_available()\n",
    "    else \"cpu\"\n",
    ")\n",
    "print(f\"Using {device} device\")\n",
    "\n",
    "# Tensorboard logging\n",
    "tb = program.TensorBoard()\n",
    "tb.configure(argv=[None, '--logdir', 'ultralytics/runs', '--bind_all'])\n",
    "url = tb.launch()\n",
    "print(f\"Tensorboard started at {url}\")"
   ],
   "metadata": {
    "collapsed": false
   },
   "id": "8e497adcc674e582"
  },
  {
   "cell_type": "code",
   "outputs": [
    {
     "name": "stdout",
     "output_type": "stream",
     "text": [
      "Downloading https://github.com/ultralytics/assets/releases/download/v8.3.0/yolo11n.pt to 'yolo11n.pt'...\n"
     ]
    },
    {
     "name": "stderr",
     "output_type": "stream",
     "text": [
      "100%|██████████| 5.35M/5.35M [00:00<00:00, 21.3MB/s]\n"
     ]
    }
   ],
   "source": [
    "# Load a model\n",
    "model = YOLO(\"yolo11n.pt\", task='detect')"
   ],
   "metadata": {
    "collapsed": false,
    "ExecuteTime": {
     "end_time": "2024-12-18T14:50:05.284973Z",
     "start_time": "2024-12-18T14:50:03.724193Z"
    }
   },
   "id": "399eb26c0cc8bce0",
   "execution_count": 2
  },
  {
   "cell_type": "code",
   "outputs": [],
   "source": [
    "# Hyperparameter tuning\n",
    "result_grid = model.tune(data=dataset, epochs=10, iterations=300, optimizer=\"Adam\", use_ray=True)"
   ],
   "metadata": {
    "collapsed": false
   },
   "id": "bfc2a67c27e83da8"
  },
  {
   "cell_type": "code",
   "outputs": [],
   "source": [
    "# Train the model\n",
    "results = model.train(data=dataset, epochs=300, device=device, optimizer=\"Adam\", patience=10)"
   ],
   "metadata": {
    "collapsed": false
   },
   "id": "ae1896a248a59956"
  },
  {
   "cell_type": "code",
   "outputs": [],
   "source": [
    "# evaluate the model\n",
    "model.val()\n",
    "\n",
    "model.save(\"yolo11n_fine24.pt\")"
   ],
   "metadata": {
    "collapsed": false
   },
   "id": "3426f025683d2ef6"
  }
 ],
 "metadata": {
  "kernelspec": {
   "display_name": "Python 3",
   "language": "python",
   "name": "python3"
  },
  "language_info": {
   "codemirror_mode": {
    "name": "ipython",
    "version": 2
   },
   "file_extension": ".py",
   "mimetype": "text/x-python",
   "name": "python",
   "nbconvert_exporter": "python",
   "pygments_lexer": "ipython2",
   "version": "2.7.6"
  }
 },
 "nbformat": 4,
 "nbformat_minor": 5
}
