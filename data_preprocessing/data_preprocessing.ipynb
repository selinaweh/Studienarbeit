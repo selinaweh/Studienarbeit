{
 "cells": [
  {
   "cell_type": "code",
   "execution_count": 2,
   "id": "initial_id",
   "metadata": {
    "collapsed": true,
    "ExecuteTime": {
     "end_time": "2024-12-18T13:05:35.391796Z",
     "start_time": "2024-12-18T13:05:35.386910Z"
    }
   },
   "outputs": [],
   "source": [
    "from PIL import Image\n",
    "from config import IMG_DIR, BBOXES_DIR\n",
    "import os"
   ]
  },
  {
   "cell_type": "code",
   "outputs": [
    {
     "data": {
      "text/plain": "(1920, 1088)"
     },
     "execution_count": 3,
     "metadata": {},
     "output_type": "execute_result"
    }
   ],
   "source": [
    "# Check the size of an example image\n",
    "example_image = Image.open(os.path.join(IMG_DIR, 'ave-0000-0001.jpg'))\n",
    "example_image.size"
   ],
   "metadata": {
    "collapsed": false,
    "ExecuteTime": {
     "end_time": "2024-12-18T13:05:35.422440Z",
     "start_time": "2024-12-18T13:05:35.410796Z"
    }
   },
   "id": "42c2c462a331d735",
   "execution_count": 3
  },
  {
   "cell_type": "code",
   "outputs": [],
   "source": [
    "# show the example image\n",
    "example_image.show()"
   ],
   "metadata": {
    "collapsed": false,
    "ExecuteTime": {
     "end_time": "2024-12-18T13:05:35.978731Z",
     "start_time": "2024-12-18T13:05:35.428456Z"
    }
   },
   "id": "12a1b83883c0323",
   "execution_count": 4
  },
  {
   "cell_type": "code",
   "outputs": [
    {
     "data": {
      "text/plain": "8034"
     },
     "execution_count": 5,
     "metadata": {},
     "output_type": "execute_result"
    }
   ],
   "source": [
    "# Check the number of images in the image directory\n",
    "len(os.listdir(IMG_DIR))"
   ],
   "metadata": {
    "collapsed": false,
    "ExecuteTime": {
     "end_time": "2024-12-18T13:05:36.029276Z",
     "start_time": "2024-12-18T13:05:35.989288Z"
    }
   },
   "id": "324846ea49fc4a73",
   "execution_count": 5
  },
  {
   "cell_type": "code",
   "outputs": [
    {
     "name": "stdout",
     "output_type": "stream",
     "text": [
      "Bean1 229\n",
      "Bean1Eval 8034\n",
      "Bean2 7752\n",
      "Bean2Eval 8035\n",
      "Coarse1 7801\n",
      "Coarse1Eval 8035\n",
      "CropAndWeed 8034\n",
      "CropOrWeed2 7706\n",
      "CropOrWeed2Eval 8035\n",
      "CropsOrWeed9 7706\n",
      "CropsOrWeed9Eval 8035\n",
      "Fine24 7706\n",
      "Fine24Eval 8035\n",
      "Maize1 1835\n",
      "Maize1Eval 8035\n",
      "Maize2 7752\n",
      "Maize2Eval 8035\n",
      "Pea1 177\n",
      "Pea1Eval 8035\n",
      "Pea2 7752\n",
      "Pea2Eval 8035\n",
      "Potato1 109\n",
      "Potato1Eval 8035\n",
      "Potato2 7752\n",
      "Potato2Eval 8035\n",
      "Pumpkin1 318\n",
      "Pumpkin1Eval 8035\n",
      "Pumpkin2 7752\n",
      "Pumpkin2Eval 8035\n",
      "Soy1 337\n",
      "Soy1Eval 8035\n",
      "Soy2 7752\n",
      "Soy2Eval 8035\n",
      "SugarBeet1 1211\n",
      "SugarBeet1Eval 8035\n",
      "SugarBeet2 7752\n",
      "SugarBeet2Eval 8035\n",
      "Sunflower1 591\n",
      "Sunflower1Eval 8035\n",
      "Sunflower2 7752\n",
      "Sunflower2Eval 8035\n"
     ]
    }
   ],
   "source": [
    "# Check the number of annotation files in each labels subdir\n",
    "for subdir in os.listdir(BBOXES_DIR):\n",
    "    print(subdir, len(os.listdir(os.path.join(BBOXES_DIR, subdir))))"
   ],
   "metadata": {
    "collapsed": false,
    "ExecuteTime": {
     "end_time": "2024-12-18T13:05:36.594566Z",
     "start_time": "2024-12-18T13:05:36.031272Z"
    }
   },
   "id": "a7b1dadb571bc54c",
   "execution_count": 6
  }
 ],
 "metadata": {
  "kernelspec": {
   "display_name": "Python 3",
   "language": "python",
   "name": "python3"
  },
  "language_info": {
   "codemirror_mode": {
    "name": "ipython",
    "version": 2
   },
   "file_extension": ".py",
   "mimetype": "text/x-python",
   "name": "python",
   "nbconvert_exporter": "python",
   "pygments_lexer": "ipython2",
   "version": "2.7.6"
  }
 },
 "nbformat": 4,
 "nbformat_minor": 5
}
